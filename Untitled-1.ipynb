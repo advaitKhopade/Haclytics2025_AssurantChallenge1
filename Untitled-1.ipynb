{
 "cells": [
  {
   "cell_type": "code",
   "execution_count": 90,
   "metadata": {},
   "outputs": [
    {
     "name": "stderr",
     "output_type": "stream",
     "text": [
      "<>:17: SyntaxWarning: invalid escape sequence '\\D'\n",
      "<>:17: SyntaxWarning: invalid escape sequence '\\D'\n",
      "C:\\Users\\advk2\\AppData\\Local\\Temp\\ipykernel_36520\\1849541811.py:17: SyntaxWarning: invalid escape sequence '\\D'\n",
      "  image_dir = \"C:\\Documents\\Haclytics2025_AssurantChallenge1\\images\"\n"
     ]
    }
   ],
   "source": [
    "import os\n",
    "import glob\n",
    "import random\n",
    "import numpy as np\n",
    "from PIL import Image\n",
    "import matplotlib.pyplot as plt\n",
    "\n",
    "import torch\n",
    "import torch.nn as nn\n",
    "import torch.optim as optim\n",
    "from torch.utils.data import Dataset, DataLoader, random_split\n",
    "import torchvision.transforms as transforms\n",
    "\n",
    "device = torch.device(\"cuda\" if torch.cuda.is_available() else \"cpu\")\n",
    "\n",
    "# Directory containing your images (e.g., \"water_damage_house1.jpg\")\n",
    "image_dir = \"C:\\Documents\\Haclytics2025_AssurantChallenge1\\images\"\n",
    "\n",
    "# Basic image & training settings\n",
    "IMAGE_SIZE = 64\n",
    "BATCH_SIZE = 32\n",
    "NUM_EPOCHS = 24  # Adjust as needed\n"
   ]
  },
  {
   "cell_type": "code",
   "execution_count": 91,
   "metadata": {},
   "outputs": [
    {
     "name": "stdout",
     "output_type": "stream",
     "text": [
      "Extracted label: no damage\n"
     ]
    }
   ],
   "source": [
    "def extract_label_from_filename(filepath):\n",
    "    \"\"\"\n",
    "    Extract a damage cause from the file name, e.g.:\n",
    "    'water_damage_house1.jpg' -> 'water damage'\n",
    "    'fire_damage_building2.jpg' -> 'fire damage'\n",
    "    'hurricane_damage_house3.jpg' -> 'hurricane damage'\n",
    "    If no recognized token is found, default to 'no damage'.\n",
    "    \"\"\"\n",
    "    base = os.path.basename(filepath)\n",
    "    name_no_ext = os.path.splitext(base)[0]\n",
    "    # Split on underscores\n",
    "    tokens = name_no_ext.lower().split('_')  # e.g. ['water', 'damage', 'house1']\n",
    "    \n",
    "    # The first token is often the cause (e.g. 'water', 'fire', 'hurricane', 'no')\n",
    "    cause_token = tokens[0]\n",
    "    \n",
    "    # Map cause_token to a recognized label\n",
    "    if cause_token == \"water\":\n",
    "        return \"water damage\"\n",
    "    elif cause_token == \"fire\":\n",
    "        return \"fire damage\"\n",
    "    elif cause_token == \"hurricane\":\n",
    "        return \"hurricane damage\"\n",
    "    elif cause_token == \"no\":\n",
    "        return \"no damage\"\n",
    "    else:\n",
    "        # If we don't recognize the token, default to 'no damage'\n",
    "        return \"no damage\"\n",
    "\n",
    "# Quick check\n",
    "example_file = os.path.join(image_dir, \"ceiling_broken_peeling_paint.jpg\")\n",
    "print(\"Extracted label:\", extract_label_from_filename(example_file))\n"
   ]
  },
  {
   "cell_type": "code",
   "execution_count": 92,
   "metadata": {},
   "outputs": [
    {
     "name": "stdout",
     "output_type": "stream",
     "text": [
      "Total images found: 211\n"
     ]
    }
   ],
   "source": [
    "expected_labels = [\"no damage\", \"water damage\", \"fire damage\", \"hurricane damage\"]\n",
    "damage_dict = {label: idx for idx, label in enumerate(expected_labels)}\n",
    "\n",
    "class DamageDataset(Dataset):\n",
    "    def __init__(self, image_dir, transform=None):\n",
    "        self.image_files = glob.glob(os.path.join(image_dir, \"*.jpg\"))\n",
    "        self.transform = transform\n",
    "\n",
    "    def __len__(self):\n",
    "        return len(self.image_files)\n",
    "\n",
    "    def __getitem__(self, idx):\n",
    "        file_path = self.image_files[idx]\n",
    "        image = Image.open(file_path).convert(\"RGB\")\n",
    "        \n",
    "        # Extract the label string from the file name\n",
    "        label_str = extract_label_from_filename(file_path)\n",
    "        \n",
    "        # Convert label string to index\n",
    "        label_idx = damage_dict.get(label_str, damage_dict[\"no damage\"])\n",
    "        \n",
    "        if self.transform:\n",
    "            image = self.transform(image)\n",
    "        return image, label_idx\n",
    "\n",
    "# Define a basic transform: resize and convert to tensor\n",
    "transform = transforms.Compose([\n",
    "    transforms.Resize((IMAGE_SIZE, IMAGE_SIZE)),\n",
    "    transforms.ToTensor(),\n",
    "])\n",
    "\n",
    "dataset = DamageDataset(image_dir=image_dir, transform=transform)\n",
    "print(f\"Total images found: {len(dataset)}\")\n"
   ]
  },
  {
   "cell_type": "code",
   "execution_count": 93,
   "metadata": {},
   "outputs": [
    {
     "name": "stdout",
     "output_type": "stream",
     "text": [
      "Total images found: 211\n",
      "Split sizes - Train: 147, Val: 31, Test: 33\n",
      "Using batch size: 31\n"
     ]
    }
   ],
   "source": [
    "# First verify the dataset\n",
    "dataset = DamageDataset(image_dir=image_dir, transform=transform)\n",
    "dataset_size = len(dataset)\n",
    "\n",
    "if dataset_size == 0:\n",
    "    raise ValueError(f\"No images found in {image_dir}\")\n",
    "\n",
    "print(f\"Total images found: {dataset_size}\")\n",
    "\n",
    "# Calculate split sizes\n",
    "train_size = max(1, int(0.70 * dataset_size))\n",
    "val_size = max(1, int(0.15 * dataset_size))\n",
    "test_size = max(1, dataset_size - train_size - val_size)\n",
    "\n",
    "# Verify split sizes\n",
    "print(f\"Split sizes - Train: {train_size}, Val: {val_size}, Test: {test_size}\")\n",
    "\n",
    "# Adjust batch size if needed\n",
    "BATCH_SIZE = min(32, min(train_size, val_size, test_size))\n",
    "print(f\"Using batch size: {BATCH_SIZE}\")\n",
    "\n",
    "# Create the splits\n",
    "train_dataset, val_dataset, test_dataset = random_split(dataset, [train_size, val_size, test_size])\n",
    "\n",
    "# Create the data loaders\n",
    "train_loader = DataLoader(train_dataset, batch_size=BATCH_SIZE, shuffle=True)\n",
    "val_loader = DataLoader(val_dataset, batch_size=BATCH_SIZE, shuffle=False)\n",
    "test_loader = DataLoader(test_dataset, batch_size=BATCH_SIZE, shuffle=False)"
   ]
  },
  {
   "cell_type": "code",
   "execution_count": 94,
   "metadata": {},
   "outputs": [
    {
     "name": "stdout",
     "output_type": "stream",
     "text": [
      "SimpleCNN(\n",
      "  (features): Sequential(\n",
      "    (0): Conv2d(3, 32, kernel_size=(3, 3), stride=(1, 1), padding=(1, 1))\n",
      "    (1): ReLU()\n",
      "    (2): MaxPool2d(kernel_size=2, stride=2, padding=0, dilation=1, ceil_mode=False)\n",
      "    (3): Conv2d(32, 64, kernel_size=(3, 3), stride=(1, 1), padding=(1, 1))\n",
      "    (4): ReLU()\n",
      "    (5): MaxPool2d(kernel_size=2, stride=2, padding=0, dilation=1, ceil_mode=False)\n",
      "    (6): Conv2d(64, 128, kernel_size=(3, 3), stride=(1, 1), padding=(1, 1))\n",
      "    (7): ReLU()\n",
      "    (8): MaxPool2d(kernel_size=2, stride=2, padding=0, dilation=1, ceil_mode=False)\n",
      "  )\n",
      "  (classifier): Sequential(\n",
      "    (0): Flatten(start_dim=1, end_dim=-1)\n",
      "    (1): Linear(in_features=8192, out_features=256, bias=True)\n",
      "    (2): ReLU()\n",
      "    (3): Dropout(p=0.5, inplace=False)\n",
      "    (4): Linear(in_features=256, out_features=4, bias=True)\n",
      "  )\n",
      ")\n"
     ]
    }
   ],
   "source": [
    "class SimpleCNN(nn.Module):\n",
    "    def __init__(self, num_classes):\n",
    "        super(SimpleCNN, self).__init__()\n",
    "        self.features = nn.Sequential(\n",
    "            nn.Conv2d(3, 32, kernel_size=3, stride=1, padding=1),\n",
    "            nn.ReLU(),\n",
    "            nn.MaxPool2d(2, 2),  # 64->32\n",
    "            \n",
    "            nn.Conv2d(32, 64, kernel_size=3, stride=1, padding=1),\n",
    "            nn.ReLU(),\n",
    "            nn.MaxPool2d(2, 2),  # 32->16\n",
    "            \n",
    "            nn.Conv2d(64, 128, kernel_size=3, stride=1, padding=1),\n",
    "            nn.ReLU(),\n",
    "            nn.MaxPool2d(2, 2)   # 16->8\n",
    "        )\n",
    "        self.classifier = nn.Sequential(\n",
    "            nn.Flatten(),\n",
    "            nn.Linear(128 * 8 * 8, 256),\n",
    "            nn.ReLU(),\n",
    "            nn.Dropout(0.5),\n",
    "            nn.Linear(256, num_classes)\n",
    "        )\n",
    "        \n",
    "    def forward(self, x):\n",
    "        x = self.features(x)\n",
    "        x = self.classifier(x)\n",
    "        return x\n",
    "\n",
    "num_classes = len(expected_labels)\n",
    "model = SimpleCNN(num_classes=num_classes).to(device)\n",
    "print(model)\n"
   ]
  },
  {
   "cell_type": "code",
   "execution_count": 95,
   "metadata": {},
   "outputs": [
    {
     "name": "stdout",
     "output_type": "stream",
     "text": [
      "Epoch 1/24 | Train Loss: 0.8143 | Val Loss: 0.0056 | Val Acc: 1.0000\n",
      "Epoch 2/24 | Train Loss: 0.4746 | Val Loss: 0.2708 | Val Acc: 1.0000\n",
      "Epoch 3/24 | Train Loss: 0.4010 | Val Loss: 0.0383 | Val Acc: 1.0000\n",
      "Epoch 4/24 | Train Loss: 0.3619 | Val Loss: 0.0763 | Val Acc: 1.0000\n",
      "Epoch 5/24 | Train Loss: 0.3909 | Val Loss: 0.1094 | Val Acc: 1.0000\n",
      "Epoch 6/24 | Train Loss: 0.3693 | Val Loss: 0.0733 | Val Acc: 1.0000\n",
      "Epoch 7/24 | Train Loss: 0.3382 | Val Loss: 0.0594 | Val Acc: 1.0000\n",
      "Epoch 8/24 | Train Loss: 0.3629 | Val Loss: 0.0760 | Val Acc: 1.0000\n",
      "Epoch 9/24 | Train Loss: 0.3720 | Val Loss: 0.0721 | Val Acc: 1.0000\n",
      "Epoch 10/24 | Train Loss: 0.3808 | Val Loss: 0.0717 | Val Acc: 1.0000\n",
      "Epoch 11/24 | Train Loss: 0.3202 | Val Loss: 0.0663 | Val Acc: 1.0000\n",
      "Epoch 12/24 | Train Loss: 0.3507 | Val Loss: 0.0654 | Val Acc: 1.0000\n",
      "Epoch 13/24 | Train Loss: 0.3347 | Val Loss: 0.0516 | Val Acc: 1.0000\n",
      "Epoch 14/24 | Train Loss: 0.3842 | Val Loss: 0.0861 | Val Acc: 1.0000\n",
      "Epoch 15/24 | Train Loss: 0.3015 | Val Loss: 0.0832 | Val Acc: 1.0000\n",
      "Epoch 16/24 | Train Loss: 0.3260 | Val Loss: 0.0488 | Val Acc: 1.0000\n",
      "Epoch 17/24 | Train Loss: 0.3292 | Val Loss: 0.0940 | Val Acc: 1.0000\n",
      "Epoch 18/24 | Train Loss: 0.2711 | Val Loss: 0.0278 | Val Acc: 1.0000\n",
      "Epoch 19/24 | Train Loss: 0.2960 | Val Loss: 0.0977 | Val Acc: 1.0000\n",
      "Epoch 20/24 | Train Loss: 0.2644 | Val Loss: 0.0596 | Val Acc: 1.0000\n",
      "Epoch 21/24 | Train Loss: 0.2417 | Val Loss: 0.0397 | Val Acc: 1.0000\n",
      "Epoch 22/24 | Train Loss: 0.2044 | Val Loss: 0.0401 | Val Acc: 1.0000\n",
      "Epoch 23/24 | Train Loss: 0.1967 | Val Loss: 0.0383 | Val Acc: 1.0000\n",
      "Epoch 24/24 | Train Loss: 0.1783 | Val Loss: 0.0527 | Val Acc: 1.0000\n"
     ]
    }
   ],
   "source": [
    "criterion = nn.CrossEntropyLoss()\n",
    "optimizer = optim.Adam(model.parameters(), lr=1e-3)\n",
    "\n",
    "for epoch in range(NUM_EPOCHS):\n",
    "    model.train()\n",
    "    running_loss = 0.0\n",
    "    \n",
    "    # --- TRAIN ---\n",
    "    for images, labels in train_loader:\n",
    "        images, labels = images.to(device), labels.to(device)\n",
    "        \n",
    "        optimizer.zero_grad()\n",
    "        outputs = model(images)\n",
    "        loss = criterion(outputs, labels)\n",
    "        loss.backward()\n",
    "        optimizer.step()\n",
    "        \n",
    "        running_loss += loss.item() * images.size(0)\n",
    "    epoch_loss = running_loss / len(train_dataset)\n",
    "    \n",
    "    # --- VALIDATE ---\n",
    "    model.eval()\n",
    "    val_loss = 0.0\n",
    "    correct = 0\n",
    "    with torch.no_grad():\n",
    "        for images, labels in val_loader:\n",
    "            images, labels = images.to(device), labels.to(device)\n",
    "            outputs = model(images)\n",
    "            loss = criterion(outputs, labels)\n",
    "            val_loss += loss.item() * images.size(0)\n",
    "            \n",
    "            preds = outputs.argmax(dim=1)\n",
    "            correct += (preds == labels).sum().item()\n",
    "    val_loss /= len(val_dataset)\n",
    "    val_accuracy = correct / len(val_dataset)\n",
    "    \n",
    "    print(f\"Epoch {epoch+1}/{NUM_EPOCHS} | Train Loss: {epoch_loss:.4f} | \"\n",
    "          f\"Val Loss: {val_loss:.4f} | Val Acc: {val_accuracy:.4f}\")\n"
   ]
  },
  {
   "cell_type": "code",
   "execution_count": null,
   "metadata": {},
   "outputs": [
    {
     "name": "stdout",
     "output_type": "stream",
     "text": [
      "Predicted: no damage\n",
      "True Label: no damage\n",
      "image name: 0\n"
     ]
    },
    {
     "data": {
      "image/png": "[encoded data removed]",
      "text/plain": [
       "<Figure size 400x400 with 1 Axes>"
      ]
     },
     "metadata": {},
     "output_type": "display_data"
    }
   ],
   "source": [
    "def predict_damage_cause(image_tensor, model):\n",
    "    \"\"\"\n",
    "    Given a single image tensor (C,H,W) and a trained model,\n",
    "    predict the damage cause label.\n",
    "    \"\"\"\n",
    "    model.eval()\n",
    "    # Add batch dimension\n",
    "    x = image_tensor.unsqueeze(0).to(device)\n",
    "    with torch.no_grad():\n",
    "        logits = model(x)\n",
    "        pred_idx = torch.argmax(logits, dim=1).item()\n",
    "    return expected_labels[pred_idx]\n",
    "\n",
    "# Pick one sample from the test set (if it exists)\n",
    "if len(test_dataset) > 0:\n",
    "    test_sample_img, test_sample_label_idx = test_dataset[0]\n",
    "    predicted_label = predict_damage_cause(test_sample_img, model)\n",
    "    true_label = expected_labels[test_sample_label_idx]\n",
    "    \n",
    "    print(f\"Predicted: {predicted_label}\")\n",
    "    print(f\"True Label: {true_label}\")\n",
    "    \n",
    "    # Display the test image\n",
    "    unnormalized_img = test_sample_img.permute(1,2,0).numpy()  # shape (H,W,C)\n",
    "    plt.figure(figsize=(4,4))\n",
    "    plt.imshow(unnormalized_img)\n",
    "    plt.title(f\"Predicted: {predicted_label}\\nTrue: {true_label}\")\n",
    "    plt.axis(\"off\")\n",
    "    plt.show()\n",
    "else:\n",
    "    print(\"Test dataset is empty. Please check your directory or data split.\")\n"
   ]
  }
 ],
 "metadata": {
  "kernelspec": {
   "display_name": ".venv",
   "language": "python",
   "name": "python3"
  },
  "language_info": {
   "codemirror_mode": {
    "name": "ipython",
    "version": 3
   },
   "file_extension": ".py",
   "mimetype": "text/x-python",
   "name": "python",
   "nbconvert_exporter": "python",
   "pygments_lexer": "ipython3",
   "version": "3.12.1"
  }
 },
 "nbformat": 4,
 "nbformat_minor": 2
}
